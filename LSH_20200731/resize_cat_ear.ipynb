{
 "cells": [
  {
   "cell_type": "code",
   "execution_count": 4,
   "metadata": {},
   "outputs": [],
   "source": [
    "from PIL import Image\n",
    "import os\n",
    "\n",
    "def resize_file(path):\n",
    "    \n",
    "    left_path = path +'/' + 'left_ear'\n",
    "    right_path = path +'/' + 'right_ear'\n",
    "    left_files = os.listdir(left_path)\n",
    "    right_files = os.listdir(right_path)\n",
    "    left_save_path = os.path.join(path + '/' + 'resize_left_ear')\n",
    "    right_save_path = os.path.join(path + '/' + 'resize_right_ear')\n",
    "\n",
    "    for l_file in left_files:\n",
    "\n",
    "        image = Image.open(left_path + '/' + l_file)\n",
    "        image = image.convert(\"RGB\")\n",
    "        resize_image = image.resize((128, 128))\n",
    "        resize_image.save(left_save_path + '/' + l_file[:-4] + '.jpg', 'JPEG', quality = 90)\n",
    "\n",
    "    for r_file in right_files:\n",
    "\n",
    "        image = Image.open(right_path + '/' + r_file)\n",
    "        image = image.convert(\"RGB\")\n",
    "        resize_image = image.resize((128, 128))\n",
    "        resize_image.save(right_save_path + '/' + r_file[:-4] + '.jpg', 'JPEG', quality = 90)"
   ]
  },
  {
   "cell_type": "code",
   "execution_count": null,
   "metadata": {},
   "outputs": [],
   "source": [
    "path = 'C:/Users/RentalHub-L5/Desktop'\n",
    "resize_file(path)"
   ]
  }
 ],
 "metadata": {
  "kernelspec": {
   "display_name": "Python 3",
   "language": "python",
   "name": "python3"
  },
  "language_info": {
   "codemirror_mode": {
    "name": "ipython",
    "version": 3
   },
   "file_extension": ".py",
   "mimetype": "text/x-python",
   "name": "python",
   "nbconvert_exporter": "python",
   "pygments_lexer": "ipython3",
   "version": "3.7.6"
  }
 },
 "nbformat": 4,
 "nbformat_minor": 4
}
