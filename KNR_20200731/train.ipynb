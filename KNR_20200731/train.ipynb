import keras, datetime
from keras.layers import Input, Dense
from keras.models import Model
from keras.callbacks import TensorBoard, ModelCheckpoint, ReduceLROnPlateau
from keras.applications import mobilenet_v2
import numpy as np
import os

from google.colab import auth
auth.authenticate_user()

from google.colab import drive
drive.mount('/content/gdrive')


base_path = '/content/gdrive/My Drive/cat_classification/dataset'


# input image size & output size
img_size = 224
output_size = 2

start_time = datetime.datetime.now().strftime('%Y_%m_%d_%H_%M_%S')


# load dataset
data_00 = np.load(base_path + '/CAT_00.npy', allow_pickle=True)
data_01 = np.load(base_path + '/CAT_01.npy', allow_pickle=True)
data_02 = np.load(base_path + '/CAT_02.npy', allow_pickle=True)
data_03 = np.load(base_path + '/CAT_03.npy', allow_pickle=True)
data_04 = np.load(base_path + '/CAT_04.npy', allow_pickle=True)
data_05 = np.load(base_path + '/CAT_05.npy', allow_pickle=True) # validationset

print('dataset load 완료')


# train set
x_train = np.concatenate((data_00.item().get('imgs'), data_01.item().get('imgs'), data_02.item().get('imgs'), data_03.item().get('imgs'), data_04.item().get('imgs')), axis=0)
y_train = np.concatenate((data_00.item().get('lbs'), data_01.item().get('lbs'), data_02.item().get('lbs'), data_03.item().get('lbs'), data_04.item().get('lbs')), axis=0)


# test set
x_test = np.concatenate((data_05.item().get('imgs')), axis=0)
y_test = data_05.item().get('lbs')


# 정규화
x_train = x_train.astype('float32') / 255.
x_test = x_test.astype('float32') / 255.


# reshape
x_train = np.reshape(x_train, (-1, img_size, img_size, 3))
x_test = np.reshape(x_test, (-1, img_size, img_size, 3))
y_train = np.reshape(y_train, (-1, 1))
y_test = np.reshape(y_test, (-1, 1))


print('정규화 완료')


# input tensor
inputs = Input(shape=(img_size, img_size, 3))


# pretrained model
mobilenetv2_model = mobilenet_v2.MobileNetV2(input_shape=(img_size, img_size, 3), alpha=1.0, include_top=True, weights=None, input_tensor=inputs, classes=2)


# 출력층
net = Dense(128, activation='relu')(mobilenetv2_model.layers[-1].output)
net = Dense(64, activation='relu')(net)
net = Dense(output_size, activation='sigmoid')(net)

model = Model(inputs=inputs, outputs=net)
model.summary()


# training
model.compile(optimizer=keras.optimizers.Adam(), loss='mse')

model.fit(x_train, y_train, 
          epochs=50, 
          batch_size=32, 
          shuffle=True,
          validation_data=(x_test, y_test), 
          verbose=1
)
